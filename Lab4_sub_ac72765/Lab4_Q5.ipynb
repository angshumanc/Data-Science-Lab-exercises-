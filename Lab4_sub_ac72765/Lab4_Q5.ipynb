{
 "cells": [
  {
   "cell_type": "code",
   "execution_count": 1,
   "metadata": {},
   "outputs": [],
   "source": [
    "import time\n",
    "import pandas as pd\n",
    "import numpy as np\n",
    "import sklearn as skl\n",
    "import matplotlib.pyplot as plt\n",
    "from sklearn.datasets import fetch_openml\n",
    "from sklearn.model_selection import train_test_split\n",
    "from sklearn.metrics import log_loss, accuracy_score\n",
    "from sklearn.preprocessing import StandardScaler\n",
    "import torch\n",
    "import torch.nn.functional as F\n",
    "from torch import nn\n",
    "from torch import optim\n",
    "from torch.utils.data import TensorDataset, DataLoader, Dataset\n",
    "import torchvision\n",
    "import torchvision.transforms as transforms"
   ]
  },
  {
   "cell_type": "code",
   "execution_count": 4,
   "metadata": {},
   "outputs": [
    {
     "data": {
      "image/png": "[encoded data removed]",
      "text/plain": [
       "<Figure size 432x288 with 9 Axes>"
      ]
     },
     "metadata": {
      "needs_background": "light"
     },
     "output_type": "display_data"
    }
   ],
   "source": [
    "X, Y = fetch_openml('mnist_784', version=1, return_X_y=True)\n",
    "# X = X.reshape((-1,1,28,28))\n",
    "Y = Y.astype(int)\n",
    "X_train, X_test, Y_train, Y_test = train_test_split(X, Y, test_size=0.25, random_state=42)\n",
    "plt.figure()\n",
    "for i in range(9):\n",
    "    plt.subplot(330 + 1 + i)\n",
    "    plt.imshow(X_train[i].reshape((28,28)),cmap='gray')\n",
    "plt.show()\n",
    "scaler = StandardScaler()\n",
    "X_train = scaler.fit_transform(X_train)\n",
    "X_test = scaler.transform(X_test)\n",
    "X_train, X_val, Y_train, Y_val = train_test_split(X_train, Y_train, test_size=0.2, random_state=42)"
   ]
  },
  {
   "cell_type": "code",
   "execution_count": 5,
   "metadata": {},
   "outputs": [],
   "source": [
    "train_data = TensorDataset(torch.from_numpy(X_train.astype(float)).view(-1,1,28,28).float(),torch.from_numpy(Y_train).type(torch.LongTensor))\n",
    "test_data = TensorDataset(torch.from_numpy(X_test.astype(float)).view(-1,1,28,28).float(),torch.from_numpy(Y_test).type(torch.LongTensor))\n",
    "val_data = TensorDataset(torch.from_numpy(X_val.astype(float)).view(-1,1,28,28).float(),torch.from_numpy(Y_val).type(torch.LongTensor))"
   ]
  },
  {
   "cell_type": "code",
   "execution_count": 54,
   "metadata": {},
   "outputs": [
    {
     "data": {
      "text/plain": [
       "tensor([[0., 0., 0.,  ..., 0., 0., 0.],\n",
       "        [0., 0., 0.,  ..., 0., 0., 0.],\n",
       "        [0., 0., 0.,  ..., 0., 0., 0.],\n",
       "        ...,\n",
       "        [0., 0., 0.,  ..., 0., 0., 0.],\n",
       "        [0., 0., 0.,  ..., 0., 0., 0.],\n",
       "        [0., 0., 0.,  ..., 0., 0., 0.]], dtype=torch.float64)"
      ]
     },
     "execution_count": 54,
     "metadata": {},
     "output_type": "execute_result"
    }
   ],
   "source": [
    "torch.from_numpy(X_train.astype(float))"
   ]
  },
  {
   "cell_type": "code",
   "execution_count": 40,
   "metadata": {},
   "outputs": [],
   "source": [
    "mnist_transform=transforms.Compose([transforms.ToTensor(), transforms.Normalize((0.1307,), (0.3081,))])\n",
    "\n",
    "class CDataset(Dataset):\n",
    "    def __init__(self, arrays, transform=None):\n",
    "        assert all(arrays[0].shape[0] == array.shape[0] for array in arrays)\n",
    "        self.arrays = arrays\n",
    "        self.transform = transform\n",
    "    def __getitem__(self, index):\n",
    "        x = self.arrays[0][index]\n",
    "        if self.transform:\n",
    "            x = self.transform(x)\n",
    "        y = self.arrays[1][index]\n",
    "        return x, y \n",
    "    def __len__(self):\n",
    "        return self.arrays[0].shape[0]\n",
    "\n",
    "# X_train, Y_train, X_val, Y_val, X_test, Y_test = map(torch.from_numpy, (X_train, Y_train, X_val, Y_val, X_test, Y_test))\n",
    "train_data = CDataset(arrays=(X_train,Y_train),transform = mnist_transform)\n",
    "val_data = CDataset(arrays=(X_val, Y_val),transform = mnist_transform)\n",
    "test_data = CDataset(arrays=(X_test, Y_test),transform = mnist_transform)"
   ]
  },
  {
   "cell_type": "code",
   "execution_count": 21,
   "metadata": {},
   "outputs": [],
   "source": [
    "# inspired by MNIST example from pytorch.\n",
    "class Conv_Net(nn.Module):\n",
    "    def __init__(self):\n",
    "        super(Conv_Net, self).__init__()\n",
    "        self.conv1 = nn.Conv2d(1, 32, 3, 1)\n",
    "        self.conv2 = nn.Conv2d(32, 64, 3, 1)\n",
    "        self.dropout1 = nn.Dropout2d(0.25)\n",
    "        self.dropout2 = nn.Dropout2d(0.5)\n",
    "        self.fc1 = nn.Linear(9216, 128)\n",
    "        self.fc2 = nn.Linear(128, 10)\n",
    "\n",
    "    def forward(self, x):\n",
    "        x = self.conv1(x)\n",
    "        x = F.relu(x)\n",
    "        x = self.conv2(x)\n",
    "        x = F.relu(x)\n",
    "        x = F.max_pool2d(x, 2)\n",
    "        x = self.dropout1(x)\n",
    "        x = torch.flatten(x, 1)\n",
    "        x = self.fc1(x)\n",
    "        x = F.relu(x)\n",
    "        x = self.dropout2(x)\n",
    "        x = self.fc2(x)\n",
    "        output = F.log_softmax(x, dim=1)\n",
    "        return output\n",
    "\n",
    "def train(model, device, train_loader, val_loader, optimizer, epoch, log_interval=100):\n",
    "    model.train()\n",
    "    for batch_idx, (data, target) in enumerate(train_loader):\n",
    "        data, target = data.to(device), target.to(device)\n",
    "        optimizer.zero_grad()\n",
    "        output = model(data)\n",
    "        loss = F.nll_loss(output, target)\n",
    "        loss.backward()\n",
    "        optimizer.step()\n",
    "#         if batch_idx % log_interval == 0:\n",
    "    model.eval()\n",
    "    with torch.no_grad():\n",
    "        train_loss = 0\n",
    "        train_correct = 0\n",
    "        for train_batch_idx, (train_data, train_target) in enumerate(train_loader):\n",
    "            train_data, train_target = train_data.to(device), train_target.to(device)\n",
    "            train_output = model(train_data)\n",
    "            train_loss += F.nll_loss(train_output, train_target, reduction='sum').item()\n",
    "            train_pred = train_output.argmax(dim=1, keepdim=True)\n",
    "            train_correct += train_pred.eq(train_target.view_as(train_pred)).sum().item()\n",
    "        train_acc = 100. * train_correct / len(train_loader.dataset)\n",
    "        train_loss /= len(train_loader.dataset)\n",
    "        val_loss = 0\n",
    "        val_correct = 0\n",
    "        for val_batch_idx, (val_data, val_target) in enumerate(val_loader):\n",
    "            val_data, val_target = val_data.to(device), val_target.to(device)\n",
    "            val_output = model(val_data)\n",
    "            val_loss += F.nll_loss(val_output, val_target, reduction='sum').item()\n",
    "            val_pred = val_output.argmax(dim=1, keepdim=True)\n",
    "            val_correct += val_pred.eq(val_target.view_as(val_pred)).sum().item()\n",
    "        val_acc = 100. * val_correct / len(val_loader.dataset)\n",
    "        val_loss /= len(val_loader.dataset)\n",
    "    print('Train Epoch: {}\\tTrain Avg Loss: {:.4f}\\tTrain Acc: {:.0f}%\\tVal Avg Loss: {:.4f}\\tVal Acc: {:.0f}%'.format(\n",
    "        epoch, train_loss, train_acc,val_loss,val_acc))\n",
    "\n",
    "def test(model, device, test_loader):\n",
    "    model.eval()\n",
    "    test_loss = 0\n",
    "    correct = 0\n",
    "    with torch.no_grad():\n",
    "        for data, target in test_loader:\n",
    "            data, target = data.to(device), target.to(device)\n",
    "            output = model(data)\n",
    "            test_loss += F.nll_loss(output, target, reduction='sum').item()  # sum up batch loss\n",
    "            pred = output.argmax(dim=1, keepdim=True)  # get the index of the max log-probability\n",
    "            correct += pred.eq(target.view_as(pred)).sum().item()\n",
    "\n",
    "    test_loss /= len(test_loader.dataset)\n",
    "\n",
    "    print('\\nTest set: Average loss: {:.4f}, Accuracy: {}/{} ({:.0f}%)\\n'.format(\n",
    "        test_loss, correct, len(test_loader.dataset),\n",
    "        100. * correct / len(test_loader.dataset)))"
   ]
  },
  {
   "cell_type": "code",
   "execution_count": 22,
   "metadata": {},
   "outputs": [
    {
     "name": "stdout",
     "output_type": "stream",
     "text": [
      "Train Epoch: 1\tTrain Avg Loss: 0.0487\tTrain Acc: 98%\tVal Avg Loss: 0.0612\tVal Acc: 98%\n",
      "Train Epoch: 2\tTrain Avg Loss: 0.0330\tTrain Acc: 99%\tVal Avg Loss: 0.0557\tVal Acc: 98%\n",
      "Train Epoch: 3\tTrain Avg Loss: 0.0222\tTrain Acc: 99%\tVal Avg Loss: 0.0481\tVal Acc: 99%\n",
      "Train Epoch: 4\tTrain Avg Loss: 0.0183\tTrain Acc: 99%\tVal Avg Loss: 0.0444\tVal Acc: 99%\n",
      "Train Epoch: 5\tTrain Avg Loss: 0.0144\tTrain Acc: 100%\tVal Avg Loss: 0.0419\tVal Acc: 99%\n",
      "Train Epoch: 6\tTrain Avg Loss: 0.0127\tTrain Acc: 100%\tVal Avg Loss: 0.0415\tVal Acc: 99%\n",
      "Train Epoch: 7\tTrain Avg Loss: 0.0118\tTrain Acc: 100%\tVal Avg Loss: 0.0416\tVal Acc: 99%\n",
      "Train Epoch: 8\tTrain Avg Loss: 0.0111\tTrain Acc: 100%\tVal Avg Loss: 0.0428\tVal Acc: 99%\n",
      "Train Epoch: 9\tTrain Avg Loss: 0.0103\tTrain Acc: 100%\tVal Avg Loss: 0.0410\tVal Acc: 99%\n",
      "Train Epoch: 10\tTrain Avg Loss: 0.0100\tTrain Acc: 100%\tVal Avg Loss: 0.0410\tVal Acc: 99%\n",
      "Train Epoch: 11\tTrain Avg Loss: 0.0095\tTrain Acc: 100%\tVal Avg Loss: 0.0403\tVal Acc: 99%\n",
      "Train Epoch: 12\tTrain Avg Loss: 0.0094\tTrain Acc: 100%\tVal Avg Loss: 0.0405\tVal Acc: 99%\n",
      "Train Epoch: 13\tTrain Avg Loss: 0.0093\tTrain Acc: 100%\tVal Avg Loss: 0.0404\tVal Acc: 99%\n",
      "Train Epoch: 14\tTrain Avg Loss: 0.0093\tTrain Acc: 100%\tVal Avg Loss: 0.0407\tVal Acc: 99%\n",
      "Train Epoch: 15\tTrain Avg Loss: 0.0092\tTrain Acc: 100%\tVal Avg Loss: 0.0405\tVal Acc: 99%\n",
      "Train Epoch: 16\tTrain Avg Loss: 0.0092\tTrain Acc: 100%\tVal Avg Loss: 0.0405\tVal Acc: 99%\n",
      "Train Epoch: 17\tTrain Avg Loss: 0.0092\tTrain Acc: 100%\tVal Avg Loss: 0.0404\tVal Acc: 99%\n",
      "Train Epoch: 18\tTrain Avg Loss: 0.0091\tTrain Acc: 100%\tVal Avg Loss: 0.0405\tVal Acc: 99%\n",
      "Train Epoch: 19\tTrain Avg Loss: 0.0091\tTrain Acc: 100%\tVal Avg Loss: 0.0405\tVal Acc: 99%\n",
      "Train Epoch: 20\tTrain Avg Loss: 0.0091\tTrain Acc: 100%\tVal Avg Loss: 0.0405\tVal Acc: 99%\n",
      "\n",
      "Test set: Average loss: 0.0442, Accuracy: 17302/17500 (99%)\n",
      "\n"
     ]
    }
   ],
   "source": [
    "batch_size = 64 # batch size\n",
    "test_batch_size = 1000 # testing batch size\n",
    "epochs = 20 # number of training epochs\n",
    "lr = 1 # learning rate\n",
    "gamma = 0.7 # lr decay\n",
    "seed = 42 \n",
    "log_interval = 5\n",
    "use_cuda = torch.cuda.is_available()\n",
    "device = torch.device(\"cuda\" if use_cuda else \"cpu\")\n",
    "train_kwargs = {'batch_size': batch_size}\n",
    "test_kwargs = {'batch_size': test_batch_size}\n",
    "transform_kwargs = {}\n",
    "if use_cuda:\n",
    "    cuda_kwargs = {'num_workers': 1,\n",
    "                   'pin_memory': True,\n",
    "                   'shuffle': True}\n",
    "    train_kwargs.update(cuda_kwargs)\n",
    "    test_kwargs.update(cuda_kwargs)\n",
    "torch.manual_seed(seed)\n",
    "\n",
    "train_loader = DataLoader(train_data,**train_kwargs)\n",
    "val_loader = DataLoader(val_data,**test_kwargs)\n",
    "test_loader = DataLoader(test_data, **test_kwargs)\n",
    "\n",
    "model = Conv_Net().to(device)\n",
    "optimizer = optim.Adadelta(model.parameters(), lr=lr)\n",
    "\n",
    "scheduler = optim.lr_scheduler.StepLR(optimizer, step_size=1, gamma=gamma)\n",
    "for epoch in range(1, epochs + 1):\n",
    "    train(model, device, train_loader, val_loader, optimizer, epoch)\n",
    "    scheduler.step()\n",
    "test(model, device, test_loader)"
   ]
  },
  {
   "cell_type": "code",
   "execution_count": null,
   "metadata": {},
   "outputs": [],
   "source": []
  }
 ],
 "metadata": {
  "kernelspec": {
   "display_name": "Python 3",
   "language": "python",
   "name": "python3"
  },
  "language_info": {
   "codemirror_mode": {
    "name": "ipython",
    "version": 3
   },
   "file_extension": ".py",
   "mimetype": "text/x-python",
   "name": "python",
   "nbconvert_exporter": "python",
   "pygments_lexer": "ipython3",
   "version": "3.8.8"
  }
 },
 "nbformat": 4,
 "nbformat_minor": 4
}
